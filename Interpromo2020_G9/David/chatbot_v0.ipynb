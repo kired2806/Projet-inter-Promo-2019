{
 "cells": [
  {
   "cell_type": "code",
   "execution_count": 21,
   "metadata": {},
   "outputs": [],
   "source": [
    "import pandas as pd\n",
    "import numpy as np\n",
    "import nltk\n",
    "import json"
   ]
  },
  {
   "cell_type": "code",
   "execution_count": 22,
   "metadata": {},
   "outputs": [],
   "source": [
    "%run constants.ipynb\n",
    "%run functions.ipynb\n",
    "%run dictionnaries.ipynb"
   ]
  },
  {
   "cell_type": "code",
   "execution_count": 23,
   "metadata": {},
   "outputs": [],
   "source": [
    "%run tag_to_filter.v1.ipynb"
   ]
  },
  {
   "cell_type": "code",
   "execution_count": 24,
   "metadata": {},
   "outputs": [],
   "source": [
    "df_transitions = pd.read_csv(data_directory+'df_transitions.csv', \n",
    "                             sep='§', \n",
    "                             engine='python',\n",
    "                             index_col=0, \n",
    "                             encoding='utf-8')"
   ]
  },
  {
   "cell_type": "code",
   "execution_count": 25,
   "metadata": {},
   "outputs": [
    {
     "data": {
      "text/plain": [
       "'{\"filters\": {\"manufacturer\": [\"boeing\"], \"aircraft\": [\"b_52_stratofortress\"], \"company\": [], \"country\": [], \"category\": [\"business\", \"premium\"], \"date\": [\"10112013\", \"16062017\"]}, \"tab\": \"default\"}'"
      ]
     },
     "execution_count": 25,
     "metadata": {},
     "output_type": "execute_result"
    }
   ],
   "source": [
    "class Markov:\n",
    "    def __init__(self, name, transitions):\n",
    "        self.name = name\n",
    "        self.transitions = transitions\n",
    "        \n",
    "    def predict(self, event):\n",
    "        predict = predict_next_state(event, self.transitions)\n",
    "        return predict\n",
    "    \n",
    "    def random_state(self):\n",
    "        return np.random.choice(self.transitions.index)\n",
    "    \n",
    "markov = Markov('Markov', df_transitions)\n",
    "markov.predict(markov.random_state())"
   ]
  },
  {
   "cell_type": "code",
   "execution_count": 26,
   "metadata": {},
   "outputs": [
    {
     "data": {
      "text/plain": [
       "'Afficheur'"
      ]
     },
     "execution_count": 26,
     "metadata": {},
     "output_type": "execute_result"
    }
   ],
   "source": [
    "class Intent:\n",
    "    def __init__(self, name):\n",
    "        self.name = name\n",
    "\n",
    "class Afficheur(Intent):\n",
    "    def __init__(self, name, model_tagger, model_predicteur):\n",
    "        self.name = name\n",
    "        self.tagger = model_tagger\n",
    "        self.predicteur = model_predicteur\n",
    "    \n",
    "    def get_tags(self, sentence):\n",
    "        #request = self.tagger.predict([sentence])[0]\n",
    "        request = [{'in': 'O'},{'Sweden': 'COUN_B'},{'France': 'COUN_B'},\n",
    "                   {'from': 'O'},{'SPRING': 'DATE1_B'},{'1902': 'DATE1_B'},\n",
    "                   {'to': 'O'},{'AUTUMN': 'DATE2_B'},{'2017': 'DATE2_E'},\n",
    "                   {'cloud': 'STAT_B'},{'of': 'STAT_I'},{'words': 'STAT_E'},\n",
    "                   {'for': 'O'},{'Pilatus': 'MANU_B'},{'Pilatus': 'O'}]\n",
    "        return request\n",
    "    \n",
    "    def get_filters(self, sentence):\n",
    "        request = self.get_tags(sentence)\n",
    "        tags_values = extract_tags(request)\n",
    "        filters = tag_to_filters(tags_values)\n",
    "        filters = apply_date(filters)\n",
    "        event = {\n",
    "            CT_tabs : CT_tabs_default,\n",
    "            CT_filt : filters,\n",
    "        }\n",
    "        return event\n",
    "    \n",
    "    def interact(self, sentence):\n",
    "        event = self.get_filters(sentence)\n",
    "        event_state = json.dumps(event)\n",
    "        event_state_hash = json_string_to_hash(event_state)\n",
    "        pred_state_hash = self.predicteur.predict(event_state_hash)\n",
    "        pred_sentence = make_sentence_fom_json(json.loads(pred_state_hash))\n",
    "        \n",
    "        res = {\"in_sate\" : event_state_hash,\n",
    "               \"out_state\" : pred_state_hash,\n",
    "               \"out_sentence\" : pred_sentence,}\n",
    "        \n",
    "        return res\n",
    "    \n",
    "Afficheur_Intent = Afficheur(name='Afficheur', model_tagger='tagger', model_predicteur=markov)\n",
    "Afficheur_Intent.name"
   ]
  },
  {
   "cell_type": "code",
   "execution_count": 27,
   "metadata": {},
   "outputs": [
    {
     "data": {
      "text/plain": [
       "0"
      ]
     },
     "execution_count": 27,
     "metadata": {},
     "output_type": "execute_result"
    }
   ],
   "source": [
    "class Classifieur:\n",
    "    def __init__(self, name, model_classifieur):\n",
    "        self.name = name\n",
    "        self.classifieur = model_classifieur\n",
    "        \n",
    "    def predict(self, sentence):\n",
    "        return 0\n",
    "\n",
    "Classifieur = Classifieur(name='Intent classifieur', model_classifieur=\"\")\n",
    "Classifieur.predict(sentence=\"\")"
   ]
  },
  {
   "cell_type": "code",
   "execution_count": 28,
   "metadata": {},
   "outputs": [
    {
     "data": {
      "text/plain": [
       "{'classifieur': <__main__.Classifieur at 0x7f322665bc18>,\n",
       " 'intents': {0: <__main__.Afficheur at 0x7f32266635f8>}}"
      ]
     },
     "execution_count": 28,
     "metadata": {},
     "output_type": "execute_result"
    }
   ],
   "source": [
    "intents  = {\"classifieur\" : Classifieur,\n",
    "            \"intents\" : {0 : Afficheur_Intent}\n",
    "           }\n",
    "\n",
    "intents"
   ]
  },
  {
   "cell_type": "code",
   "execution_count": 19,
   "metadata": {},
   "outputs": [
    {
     "data": {
      "text/plain": [
       "0"
      ]
     },
     "execution_count": 19,
     "metadata": {},
     "output_type": "execute_result"
    }
   ],
   "source": [
    "class ChatBot:\n",
    "    def __init__(self, name, intents={}, classifieur=\"\"):\n",
    "        self.name = name\n",
    "        self.classifieur = intents['classifieur']\n",
    "        self.intents = intents['intents']\n",
    "        \n",
    "    def get_intent_classification(self, sentence):\n",
    "        return self.classifieur.predict(sentence)\n",
    "    \n",
    "    def interact(self, sentence):\n",
    "        intent_id = self.get_intent_classification(sentence)\n",
    "        intent = self.intents[intent_id]\n",
    "        interaction = intent.interact(sentence)\n",
    "        return interaction\n",
    "\n",
    "    \n",
    "    \n",
    "Hubert = ChatBot(name='Chatbot Hubert', intents=intents)\n",
    "Hubert.get_intent_classification('aertetreb') "
   ]
  },
  {
   "cell_type": "code",
   "execution_count": 20,
   "metadata": {},
   "outputs": [
    {
     "name": "stdout",
     "output_type": "stream",
     "text": [
      "in_sate :\t {\"filters\": {\"manufacturer\": [\"pilatus\"], \"aircraft\": [], \"company\": [], \"country\": [\"france\", \"sweden\"], \"category\": [], \"date\": [\"01031902\", \"30112017\"]}, \"tab\": \"default\"} \n",
      "\n",
      "out_state :\t {\"filters\": {\"manufacturer\": [\"airbus\", \"cessna\", \"cirrus \", \"matra\"], \"aircraft\": [\"11e_spartan_185\", \"430\", \"hunter\", \"s_2_tracker\"], \"company\": [\"tam_airlines\"], \"country\": [\"anguilla\", \"costa_rica\", \"libya\", \"togo\"], \"category\": [], \"date\": [\"06082017\", \"09022010\"]}, \"tab\": \"seat\"} \n",
      "\n",
      "out_sentence :\t We suggest you theseats' study from 06-08-2017 to 09-02-2010 for the manufacturers airbus,cessna,cirrus ,matra and for the aircrafts 11e_spartan_185,430,hunter,s_2_tracker and for the companytam_airlines and. If you agree, click onto the following link ;) \n",
      "\n"
     ]
    }
   ],
   "source": [
    "res = Hubert.interact('aertetreb')\n",
    "for k,v in res.items():\n",
    "    print(k,':\\t',v,'\\n')"
   ]
  },
  {
   "cell_type": "code",
   "execution_count": null,
   "metadata": {},
   "outputs": [],
   "source": []
  },
  {
   "cell_type": "code",
   "execution_count": null,
   "metadata": {},
   "outputs": [],
   "source": []
  },
  {
   "cell_type": "code",
   "execution_count": null,
   "metadata": {},
   "outputs": [],
   "source": []
  },
  {
   "cell_type": "code",
   "execution_count": null,
   "metadata": {},
   "outputs": [],
   "source": []
  }
 ],
 "metadata": {
  "kernelspec": {
   "display_name": "Python 3",
   "language": "python",
   "name": "python3"
  },
  "language_info": {
   "codemirror_mode": {
    "name": "ipython",
    "version": 3
   },
   "file_extension": ".py",
   "mimetype": "text/x-python",
   "name": "python",
   "nbconvert_exporter": "python",
   "pygments_lexer": "ipython3",
   "version": "3.7.3"
  }
 },
 "nbformat": 4,
 "nbformat_minor": 2
}
